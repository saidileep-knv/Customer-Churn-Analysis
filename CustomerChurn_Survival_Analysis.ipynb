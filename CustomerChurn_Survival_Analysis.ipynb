{
  "nbformat": 4,
  "nbformat_minor": 0,
  "metadata": {
    "colab": {
      "name": "CustomerChurn-Survival Analysis.ipynb",
      "version": "0.3.2",
      "provenance": [],
      "collapsed_sections": [],
      "include_colab_link": true
    },
    "kernelspec": {
      "name": "python3",
      "display_name": "Python 3"
    },
    "accelerator": "TPU"
  },
  "cells": [
    {
      "cell_type": "markdown",
      "metadata": {
        "id": "view-in-github",
        "colab_type": "text"
      },
      "source": [
        "<a href=\"https://colab.research.google.com/github/saidileep-knv/Customer-Churn-Analysis/blob/master/CustomerChurn_Survival_Analysis.ipynb\" target=\"_parent\"><img src=\"https://colab.research.google.com/assets/colab-badge.svg\" alt=\"Open In Colab\"/></a>"
      ]
    },
    {
      "cell_type": "code",
      "metadata": {
        "id": "rsHGkqwXtOIV",
        "colab_type": "code",
        "outputId": "3a9ec6ee-abdd-4daa-9caf-b765dc7f1c52",
        "colab": {
          "base_uri": "https://localhost:8080/",
          "height": 122
        }
      },
      "source": [
        "from google.colab import drive\n",
        "drive.mount('/content/gdrive')"
      ],
      "execution_count": 1,
      "outputs": [
        {
          "output_type": "stream",
          "text": [
            ""
          ],
          "name": "stdout"
        }
      ]
    },
    {
      "cell_type": "code",
      "metadata": {
        "id": "ooeLNjpltRo1",
        "colab_type": "code",
        "colab": {}
      },
      "source": [
        "import os\n",
        "os.chdir(\"./gdrive/My Drive/Colab Notebooks\")"
      ],
      "execution_count": 0,
      "outputs": []
    },
    {
      "cell_type": "code",
      "metadata": {
        "id": "NUiiTchEtTWw",
        "colab_type": "code",
        "colab": {}
      },
      "source": [
        "import pandas as pd\n",
        "import numpy as np\n",
        "%matplotlib inline\n",
        "import matplotlib.pyplot as plt\n",
        "import seaborn as sns\n",
        "import warnings\n",
        "warnings.filterwarnings(\"ignore\")\n",
        "from IPython.display import display"
      ],
      "execution_count": 0,
      "outputs": []
    },
    {
      "cell_type": "code",
      "metadata": {
        "id": "cq60cy-Qtiqy",
        "colab_type": "code",
        "outputId": "a64a5581-8ce4-4cd7-f22e-36b1906176d2",
        "colab": {
          "base_uri": "https://localhost:8080/",
          "height": 213
        }
      },
      "source": [
        "df = pd.read_csv(\"Telco_Customer_Churn.csv\")\n",
        "df.head(3)"
      ],
      "execution_count": 4,
      "outputs": [
        {
          "output_type": "execute_result",
          "data": {
            "text/html": [
              "<div>\n",
              "<style scoped>\n",
              "    .dataframe tbody tr th:only-of-type {\n",
              "        vertical-align: middle;\n",
              "    }\n",
              "\n",
              "    .dataframe tbody tr th {\n",
              "        vertical-align: top;\n",
              "    }\n",
              "\n",
              "    .dataframe thead th {\n",
              "        text-align: right;\n",
              "    }\n",
              "</style>\n",
              "<table border=\"1\" class=\"dataframe\">\n",
              "  <thead>\n",
              "    <tr style=\"text-align: right;\">\n",
              "      <th></th>\n",
              "      <th>customerID</th>\n",
              "      <th>gender</th>\n",
              "      <th>SeniorCitizen</th>\n",
              "      <th>Partner</th>\n",
              "      <th>Dependents</th>\n",
              "      <th>tenure</th>\n",
              "      <th>PhoneService</th>\n",
              "      <th>MultipleLines</th>\n",
              "      <th>InternetService</th>\n",
              "      <th>OnlineSecurity</th>\n",
              "      <th>OnlineBackup</th>\n",
              "      <th>DeviceProtection</th>\n",
              "      <th>TechSupport</th>\n",
              "      <th>StreamingTV</th>\n",
              "      <th>StreamingMovies</th>\n",
              "      <th>Contract</th>\n",
              "      <th>PaperlessBilling</th>\n",
              "      <th>PaymentMethod</th>\n",
              "      <th>MonthlyCharges</th>\n",
              "      <th>TotalCharges</th>\n",
              "      <th>Churn</th>\n",
              "    </tr>\n",
              "  </thead>\n",
              "  <tbody>\n",
              "    <tr>\n",
              "      <th>0</th>\n",
              "      <td>7590-VHVEG</td>\n",
              "      <td>Female</td>\n",
              "      <td>0</td>\n",
              "      <td>Yes</td>\n",
              "      <td>No</td>\n",
              "      <td>1</td>\n",
              "      <td>No</td>\n",
              "      <td>No phone service</td>\n",
              "      <td>DSL</td>\n",
              "      <td>No</td>\n",
              "      <td>Yes</td>\n",
              "      <td>No</td>\n",
              "      <td>No</td>\n",
              "      <td>No</td>\n",
              "      <td>No</td>\n",
              "      <td>Month-to-month</td>\n",
              "      <td>Yes</td>\n",
              "      <td>Electronic check</td>\n",
              "      <td>29.85</td>\n",
              "      <td>29.85</td>\n",
              "      <td>No</td>\n",
              "    </tr>\n",
              "    <tr>\n",
              "      <th>1</th>\n",
              "      <td>5575-GNVDE</td>\n",
              "      <td>Male</td>\n",
              "      <td>0</td>\n",
              "      <td>No</td>\n",
              "      <td>No</td>\n",
              "      <td>34</td>\n",
              "      <td>Yes</td>\n",
              "      <td>No</td>\n",
              "      <td>DSL</td>\n",
              "      <td>Yes</td>\n",
              "      <td>No</td>\n",
              "      <td>Yes</td>\n",
              "      <td>No</td>\n",
              "      <td>No</td>\n",
              "      <td>No</td>\n",
              "      <td>One year</td>\n",
              "      <td>No</td>\n",
              "      <td>Mailed check</td>\n",
              "      <td>56.95</td>\n",
              "      <td>1889.5</td>\n",
              "      <td>No</td>\n",
              "    </tr>\n",
              "    <tr>\n",
              "      <th>2</th>\n",
              "      <td>3668-QPYBK</td>\n",
              "      <td>Male</td>\n",
              "      <td>0</td>\n",
              "      <td>No</td>\n",
              "      <td>No</td>\n",
              "      <td>2</td>\n",
              "      <td>Yes</td>\n",
              "      <td>No</td>\n",
              "      <td>DSL</td>\n",
              "      <td>Yes</td>\n",
              "      <td>Yes</td>\n",
              "      <td>No</td>\n",
              "      <td>No</td>\n",
              "      <td>No</td>\n",
              "      <td>No</td>\n",
              "      <td>Month-to-month</td>\n",
              "      <td>Yes</td>\n",
              "      <td>Mailed check</td>\n",
              "      <td>53.85</td>\n",
              "      <td>108.15</td>\n",
              "      <td>Yes</td>\n",
              "    </tr>\n",
              "  </tbody>\n",
              "</table>\n",
              "</div>"
            ],
            "text/plain": [
              "   customerID  gender  SeniorCitizen  ... MonthlyCharges TotalCharges  Churn\n",
              "0  7590-VHVEG  Female              0  ...          29.85        29.85     No\n",
              "1  5575-GNVDE    Male              0  ...          56.95       1889.5     No\n",
              "2  3668-QPYBK    Male              0  ...          53.85       108.15    Yes\n",
              "\n",
              "[3 rows x 21 columns]"
            ]
          },
          "metadata": {
            "tags": []
          },
          "execution_count": 4
        }
      ]
    },
    {
      "cell_type": "code",
      "metadata": {
        "id": "EHrZXYzgtzHA",
        "colab_type": "code",
        "colab": {}
      },
      "source": [
        "df.set_index('customerID', inplace=True)"
      ],
      "execution_count": 0,
      "outputs": []
    },
    {
      "cell_type": "code",
      "metadata": {
        "id": "t3nSKUAsuRLx",
        "colab_type": "code",
        "outputId": "0ac43980-5ada-4869-d433-f37810c0af4e",
        "colab": {
          "base_uri": "https://localhost:8080/",
          "height": 357
        }
      },
      "source": [
        "df.columns.to_list()"
      ],
      "execution_count": 6,
      "outputs": [
        {
          "output_type": "execute_result",
          "data": {
            "text/plain": [
              "['gender',\n",
              " 'SeniorCitizen',\n",
              " 'Partner',\n",
              " 'Dependents',\n",
              " 'tenure',\n",
              " 'PhoneService',\n",
              " 'MultipleLines',\n",
              " 'InternetService',\n",
              " 'OnlineSecurity',\n",
              " 'OnlineBackup',\n",
              " 'DeviceProtection',\n",
              " 'TechSupport',\n",
              " 'StreamingTV',\n",
              " 'StreamingMovies',\n",
              " 'Contract',\n",
              " 'PaperlessBilling',\n",
              " 'PaymentMethod',\n",
              " 'MonthlyCharges',\n",
              " 'TotalCharges',\n",
              " 'Churn']"
            ]
          },
          "metadata": {
            "tags": []
          },
          "execution_count": 6
        }
      ]
    },
    {
      "cell_type": "code",
      "metadata": {
        "id": "wz_07YEmua-B",
        "colab_type": "code",
        "colab": {}
      },
      "source": [
        "df.columns = ['Gender', 'SeniorCitizen', 'Partner', 'Dependents', 'Tenure', \n",
        "              'PhoneService', 'MultipleLines', 'InternetService', 'OnlineSecurity',\n",
        "              'OnlineBackup', 'DeviceProtection', 'TechSupport', 'StreamingTV',\n",
        "              'StreamingMovies', 'Contract', 'PaperlessBilling', 'PaymentMethod',\n",
        "              'MonthlyCharges', 'TotalCharges', 'Churn']"
      ],
      "execution_count": 0,
      "outputs": []
    },
    {
      "cell_type": "code",
      "metadata": {
        "id": "UIitVknvtuQw",
        "colab_type": "code",
        "outputId": "cddee42c-6eae-4dc8-ffc3-863677b53561",
        "colab": {
          "base_uri": "https://localhost:8080/",
          "height": 442
        }
      },
      "source": [
        "df.info()"
      ],
      "execution_count": 8,
      "outputs": [
        {
          "output_type": "stream",
          "text": [
            "<class 'pandas.core.frame.DataFrame'>\n",
            "Index: 7043 entries, 7590-VHVEG to 3186-AJIEK\n",
            "Data columns (total 20 columns):\n",
            "Gender              7043 non-null object\n",
            "SeniorCitizen       7043 non-null int64\n",
            "Partner             7043 non-null object\n",
            "Dependents          7043 non-null object\n",
            "Tenure              7043 non-null int64\n",
            "PhoneService        7043 non-null object\n",
            "MultipleLines       7043 non-null object\n",
            "InternetService     7043 non-null object\n",
            "OnlineSecurity      7043 non-null object\n",
            "OnlineBackup        7043 non-null object\n",
            "DeviceProtection    7043 non-null object\n",
            "TechSupport         7043 non-null object\n",
            "StreamingTV         7043 non-null object\n",
            "StreamingMovies     7043 non-null object\n",
            "Contract            7043 non-null object\n",
            "PaperlessBilling    7043 non-null object\n",
            "PaymentMethod       7043 non-null object\n",
            "MonthlyCharges      7043 non-null float64\n",
            "TotalCharges        7043 non-null object\n",
            "Churn               7043 non-null object\n",
            "dtypes: float64(1), int64(2), object(17)\n",
            "memory usage: 1.1+ MB\n"
          ],
          "name": "stdout"
        }
      ]
    },
    {
      "cell_type": "code",
      "metadata": {
        "id": "-eSd1vuItjUA",
        "colab_type": "code",
        "outputId": "c555d4f4-2236-47e3-c4d1-75766f99fbab",
        "colab": {
          "base_uri": "https://localhost:8080/",
          "height": 34
        }
      },
      "source": [
        "print(\"No. of duplicated entries in the dataset = \"+str(len(df[df.duplicated(keep=False)])))"
      ],
      "execution_count": 9,
      "outputs": [
        {
          "output_type": "stream",
          "text": [
            "No. of duplicated entries in the dataset = 42\n"
          ],
          "name": "stdout"
        }
      ]
    },
    {
      "cell_type": "code",
      "metadata": {
        "id": "lAlNnTkktnPA",
        "colab_type": "code",
        "colab": {}
      },
      "source": [
        "##Convert TotalCharges to float\n",
        "df['TotalCharges'] = pd.to_numeric(df['TotalCharges'], errors ='coerce')\n",
        "##Convert SeniorCitizen to object\n",
        "df['SeniorCitizen'] = pd.Categorical(df[\"SeniorCitizen\"])\n",
        "##Convert Tenure to float\n",
        "df['Tenure'] = df['Tenure'].astype(float)\n",
        "##One-hot encoding of Churn column\n",
        "df.Churn = df.Churn.apply(lambda x:1 if x==\"Yes\" else 0)"
      ],
      "execution_count": 0,
      "outputs": []
    },
    {
      "cell_type": "code",
      "metadata": {
        "id": "edYunn51tpkQ",
        "colab_type": "code",
        "outputId": "aa9efbe1-a856-42d2-abc2-3bf3340b839c",
        "colab": {
          "base_uri": "https://localhost:8080/",
          "height": 374
        }
      },
      "source": [
        "df.isnull().sum()"
      ],
      "execution_count": 11,
      "outputs": [
        {
          "output_type": "execute_result",
          "data": {
            "text/plain": [
              "Gender               0\n",
              "SeniorCitizen        0\n",
              "Partner              0\n",
              "Dependents           0\n",
              "Tenure               0\n",
              "PhoneService         0\n",
              "MultipleLines        0\n",
              "InternetService      0\n",
              "OnlineSecurity       0\n",
              "OnlineBackup         0\n",
              "DeviceProtection     0\n",
              "TechSupport          0\n",
              "StreamingTV          0\n",
              "StreamingMovies      0\n",
              "Contract             0\n",
              "PaperlessBilling     0\n",
              "PaymentMethod        0\n",
              "MonthlyCharges       0\n",
              "TotalCharges        11\n",
              "Churn                0\n",
              "dtype: int64"
            ]
          },
          "metadata": {
            "tags": []
          },
          "execution_count": 11
        }
      ]
    },
    {
      "cell_type": "code",
      "metadata": {
        "id": "n6xhjyaPtthw",
        "colab_type": "code",
        "colab": {}
      },
      "source": [
        "##Imputing missing values in the TotalCharges with mean\n",
        "df.TotalCharges.fillna(df.TotalCharges.mean(), inplace = True)"
      ],
      "execution_count": 0,
      "outputs": []
    },
    {
      "cell_type": "code",
      "metadata": {
        "id": "bkRu8y0guP4h",
        "colab_type": "code",
        "outputId": "5ecb705a-f198-42e5-af2b-933945db4822",
        "colab": {
          "base_uri": "https://localhost:8080/",
          "height": 340
        }
      },
      "source": [
        "df.head()"
      ],
      "execution_count": 13,
      "outputs": [
        {
          "output_type": "execute_result",
          "data": {
            "text/html": [
              "<div>\n",
              "<style scoped>\n",
              "    .dataframe tbody tr th:only-of-type {\n",
              "        vertical-align: middle;\n",
              "    }\n",
              "\n",
              "    .dataframe tbody tr th {\n",
              "        vertical-align: top;\n",
              "    }\n",
              "\n",
              "    .dataframe thead th {\n",
              "        text-align: right;\n",
              "    }\n",
              "</style>\n",
              "<table border=\"1\" class=\"dataframe\">\n",
              "  <thead>\n",
              "    <tr style=\"text-align: right;\">\n",
              "      <th></th>\n",
              "      <th>Gender</th>\n",
              "      <th>SeniorCitizen</th>\n",
              "      <th>Partner</th>\n",
              "      <th>Dependents</th>\n",
              "      <th>Tenure</th>\n",
              "      <th>PhoneService</th>\n",
              "      <th>MultipleLines</th>\n",
              "      <th>InternetService</th>\n",
              "      <th>OnlineSecurity</th>\n",
              "      <th>OnlineBackup</th>\n",
              "      <th>DeviceProtection</th>\n",
              "      <th>TechSupport</th>\n",
              "      <th>StreamingTV</th>\n",
              "      <th>StreamingMovies</th>\n",
              "      <th>Contract</th>\n",
              "      <th>PaperlessBilling</th>\n",
              "      <th>PaymentMethod</th>\n",
              "      <th>MonthlyCharges</th>\n",
              "      <th>TotalCharges</th>\n",
              "      <th>Churn</th>\n",
              "    </tr>\n",
              "    <tr>\n",
              "      <th>customerID</th>\n",
              "      <th></th>\n",
              "      <th></th>\n",
              "      <th></th>\n",
              "      <th></th>\n",
              "      <th></th>\n",
              "      <th></th>\n",
              "      <th></th>\n",
              "      <th></th>\n",
              "      <th></th>\n",
              "      <th></th>\n",
              "      <th></th>\n",
              "      <th></th>\n",
              "      <th></th>\n",
              "      <th></th>\n",
              "      <th></th>\n",
              "      <th></th>\n",
              "      <th></th>\n",
              "      <th></th>\n",
              "      <th></th>\n",
              "      <th></th>\n",
              "    </tr>\n",
              "  </thead>\n",
              "  <tbody>\n",
              "    <tr>\n",
              "      <th>7590-VHVEG</th>\n",
              "      <td>Female</td>\n",
              "      <td>0</td>\n",
              "      <td>Yes</td>\n",
              "      <td>No</td>\n",
              "      <td>1.0</td>\n",
              "      <td>No</td>\n",
              "      <td>No phone service</td>\n",
              "      <td>DSL</td>\n",
              "      <td>No</td>\n",
              "      <td>Yes</td>\n",
              "      <td>No</td>\n",
              "      <td>No</td>\n",
              "      <td>No</td>\n",
              "      <td>No</td>\n",
              "      <td>Month-to-month</td>\n",
              "      <td>Yes</td>\n",
              "      <td>Electronic check</td>\n",
              "      <td>29.85</td>\n",
              "      <td>29.85</td>\n",
              "      <td>0</td>\n",
              "    </tr>\n",
              "    <tr>\n",
              "      <th>5575-GNVDE</th>\n",
              "      <td>Male</td>\n",
              "      <td>0</td>\n",
              "      <td>No</td>\n",
              "      <td>No</td>\n",
              "      <td>34.0</td>\n",
              "      <td>Yes</td>\n",
              "      <td>No</td>\n",
              "      <td>DSL</td>\n",
              "      <td>Yes</td>\n",
              "      <td>No</td>\n",
              "      <td>Yes</td>\n",
              "      <td>No</td>\n",
              "      <td>No</td>\n",
              "      <td>No</td>\n",
              "      <td>One year</td>\n",
              "      <td>No</td>\n",
              "      <td>Mailed check</td>\n",
              "      <td>56.95</td>\n",
              "      <td>1889.50</td>\n",
              "      <td>0</td>\n",
              "    </tr>\n",
              "    <tr>\n",
              "      <th>3668-QPYBK</th>\n",
              "      <td>Male</td>\n",
              "      <td>0</td>\n",
              "      <td>No</td>\n",
              "      <td>No</td>\n",
              "      <td>2.0</td>\n",
              "      <td>Yes</td>\n",
              "      <td>No</td>\n",
              "      <td>DSL</td>\n",
              "      <td>Yes</td>\n",
              "      <td>Yes</td>\n",
              "      <td>No</td>\n",
              "      <td>No</td>\n",
              "      <td>No</td>\n",
              "      <td>No</td>\n",
              "      <td>Month-to-month</td>\n",
              "      <td>Yes</td>\n",
              "      <td>Mailed check</td>\n",
              "      <td>53.85</td>\n",
              "      <td>108.15</td>\n",
              "      <td>1</td>\n",
              "    </tr>\n",
              "    <tr>\n",
              "      <th>7795-CFOCW</th>\n",
              "      <td>Male</td>\n",
              "      <td>0</td>\n",
              "      <td>No</td>\n",
              "      <td>No</td>\n",
              "      <td>45.0</td>\n",
              "      <td>No</td>\n",
              "      <td>No phone service</td>\n",
              "      <td>DSL</td>\n",
              "      <td>Yes</td>\n",
              "      <td>No</td>\n",
              "      <td>Yes</td>\n",
              "      <td>Yes</td>\n",
              "      <td>No</td>\n",
              "      <td>No</td>\n",
              "      <td>One year</td>\n",
              "      <td>No</td>\n",
              "      <td>Bank transfer (automatic)</td>\n",
              "      <td>42.30</td>\n",
              "      <td>1840.75</td>\n",
              "      <td>0</td>\n",
              "    </tr>\n",
              "    <tr>\n",
              "      <th>9237-HQITU</th>\n",
              "      <td>Female</td>\n",
              "      <td>0</td>\n",
              "      <td>No</td>\n",
              "      <td>No</td>\n",
              "      <td>2.0</td>\n",
              "      <td>Yes</td>\n",
              "      <td>No</td>\n",
              "      <td>Fiber optic</td>\n",
              "      <td>No</td>\n",
              "      <td>No</td>\n",
              "      <td>No</td>\n",
              "      <td>No</td>\n",
              "      <td>No</td>\n",
              "      <td>No</td>\n",
              "      <td>Month-to-month</td>\n",
              "      <td>Yes</td>\n",
              "      <td>Electronic check</td>\n",
              "      <td>70.70</td>\n",
              "      <td>151.65</td>\n",
              "      <td>1</td>\n",
              "    </tr>\n",
              "  </tbody>\n",
              "</table>\n",
              "</div>"
            ],
            "text/plain": [
              "            Gender SeniorCitizen Partner  ... MonthlyCharges  TotalCharges Churn\n",
              "customerID                                ...                                   \n",
              "7590-VHVEG  Female             0     Yes  ...          29.85         29.85     0\n",
              "5575-GNVDE    Male             0      No  ...          56.95       1889.50     0\n",
              "3668-QPYBK    Male             0      No  ...          53.85        108.15     1\n",
              "7795-CFOCW    Male             0      No  ...          42.30       1840.75     0\n",
              "9237-HQITU  Female             0      No  ...          70.70        151.65     1\n",
              "\n",
              "[5 rows x 20 columns]"
            ]
          },
          "metadata": {
            "tags": []
          },
          "execution_count": 13
        }
      ]
    },
    {
      "cell_type": "code",
      "metadata": {
        "id": "4U2GpWfbu0vS",
        "colab_type": "code",
        "colab": {}
      },
      "source": [
        "!pip install lifelines\n",
        "import lifelines\n",
        "from lifelines import KaplanMeierFitter #Lifelines - Survival Analysis Library\n",
        "kmf = KaplanMeierFitter()"
      ],
      "execution_count": 0,
      "outputs": []
    },
    {
      "cell_type": "code",
      "metadata": {
        "id": "PVX-oOF9u22C",
        "colab_type": "code",
        "colab": {}
      },
      "source": [
        "import matplotlib.patches as mpt ##Custom Legends\n",
        "from lifelines.statistics import logrank_test ##Survival Statistical Testing\n",
        "sns.set_style('dark')\n",
        "sns.set_context(\"paper\")"
      ],
      "execution_count": 0,
      "outputs": []
    },
    {
      "cell_type": "code",
      "metadata": {
        "id": "wVd0iOj_u5Gy",
        "colab_type": "code",
        "outputId": "985052c3-36c2-4216-d29a-90019d89700c",
        "colab": {
          "base_uri": "https://localhost:8080/",
          "height": 457
        }
      },
      "source": [
        "##Event is Churn.\n",
        "T = df['Tenure']\n",
        "E = df['Churn']\n",
        "kmf.fit(T, E, label = \"Kaplan Meier Estimate for Average Customer\")\n",
        "##Plot Kaplan Meier Curve to look at the survival rate for the average customer\n",
        "fig, ax = plt.subplots(figsize=(10,7))\n",
        "kmf.plot(ax=ax)\n",
        "ax.set_title('Survival Curve - All Customers')\n",
        "ax.set_xlabel('Customer Tenure (Months)') \n",
        "ax.set_ylabel('Customer Survival Probability')\n",
        "plt.show()\n",
        "##print(\"Median Survival time of the averae customer is:\",kmf.median_)"
      ],
      "execution_count": 16,
      "outputs": [
        {
          "output_type": "display_data",
          "data": {
            "image/png": "[encoded data removed]",
            "text/plain": [
              "<Figure size 720x504 with 1 Axes>"
            ]
          },
          "metadata": {
            "tags": []
          }
        }
      ]
    },
    {
      "cell_type": "markdown",
      "metadata": {
        "id": "oaB2t0dHGJG6",
        "colab_type": "text"
      },
      "source": [
        "As can be expected for telecom industry, churn is realtively low. \n",
        "The company is able to retain approximately 60%  or more of the customers even after 72 months."
      ]
    },
    {
      "cell_type": "code",
      "metadata": {
        "id": "mXdhR5_NvILR",
        "colab_type": "code",
        "outputId": "8fb10c4f-ea8b-456a-8dfc-5af4f6de3eea",
        "colab": {
          "base_uri": "https://localhost:8080/",
          "height": 467
        }
      },
      "source": [
        "##Kaplan Meier Curves for Cohorts\n",
        "\n",
        "groups = df['Contract'] ##Creating Cohorts from the \"Contract\" column\n",
        "g1 = (groups == 'Month-to-month')\n",
        "g2 = (groups == 'Two year')\n",
        "g3 = (groups == 'One year')\n",
        "\n",
        "fig, ax = plt.subplots(figsize=(10,7))\n",
        "\n",
        "kmf.fit(T[g1], E[g1], label = \"Month-to-month\")\n",
        "ax = kmf.plot(ax=ax)\n",
        "\n",
        "kmf.fit(T[g2], E[g2], label = \"Two year\")\n",
        "ax1 = kmf.plot(ax = ax)\n",
        "\n",
        "kmf.fit(T[g3], E[g3], label = \"One year\")\n",
        "kmf.plot(ax = ax1)\n",
        "plt.ylabel(\"Est. probability of survival $\\hat{S}(t)$\")\n",
        "plt.xlabel(\"Tenure $t$\")"
      ],
      "execution_count": 17,
      "outputs": [
        {
          "output_type": "execute_result",
          "data": {
            "text/plain": [
              "Text(0.5, 0, 'Tenure $t$')"
            ]
          },
          "metadata": {
            "tags": []
          },
          "execution_count": 17
        },
        {
          "output_type": "display_data",
          "data": {
            "image/png": "[encoded data removed]",
            "text/plain": [
              "<Figure size 720x504 with 1 Axes>"
            ]
          },
          "metadata": {
            "tags": []
          }
        }
      ]
    },
    {
      "cell_type": "markdown",
      "metadata": {
        "id": "_HWOUJXuGqD0",
        "colab_type": "text"
      },
      "source": [
        "As can be depicted from the plot, customers with multi year contracts are less likely to cancel than those with month-to-month contracts."
      ]
    },
    {
      "cell_type": "code",
      "metadata": {
        "id": "5HwTpEDiFsMb",
        "colab_type": "code",
        "outputId": "458dfa7f-40a9-40d6-c145-6eaf755bad98",
        "colab": {
          "base_uri": "https://localhost:8080/",
          "height": 467
        }
      },
      "source": [
        "groups = df['MultipleLines']\n",
        "g1 = (groups == 'No')\n",
        "g2 = (groups == 'Yes')\n",
        "g3 = (groups == \"No phone service\")\n",
        "\n",
        "fig, ax = plt.subplots(figsize=(10,7))\n",
        "\n",
        "kmf.fit(T[g1], E[g1], label = \"Single Line\")\n",
        "ax = kmf.plot(ax=ax)\n",
        "\n",
        "kmf.fit(T[g2], E[g2], label = \"Multiple Lines\")\n",
        "ax1 = kmf.plot(ax = ax)\n",
        "\n",
        "kmf.fit(T[g3], E[g3], label = \"No Phone Service\")\n",
        "kmf.plot(ax = ax1)\n",
        "plt.ylabel(\"est. probability of survival $\\hat{S}(t)$\")\n",
        "plt.xlabel(\"tenure $t$\")"
      ],
      "execution_count": 18,
      "outputs": [
        {
          "output_type": "execute_result",
          "data": {
            "text/plain": [
              "Text(0.5, 0, 'tenure $t$')"
            ]
          },
          "metadata": {
            "tags": []
          },
          "execution_count": 18
        },
        {
          "output_type": "display_data",
          "data": {
            "image/png": "[encoded data removed]",
            "text/plain": [
              "<Figure size 720x504 with 1 Axes>"
            ]
          },
          "metadata": {
            "tags": []
          }
        }
      ]
    },
    {
      "cell_type": "code",
      "metadata": {
        "id": "p2M2TH5zv-Op",
        "colab_type": "code",
        "colab": {}
      },
      "source": [
        "categorical_feature_list = df.columns.drop(['Tenure','MonthlyCharges','TotalCharges', 'Churn'])\n",
        "numeric_feature_list = ['Tenure','MonthlyCharges', 'TotalCharges']"
      ],
      "execution_count": 0,
      "outputs": []
    },
    {
      "cell_type": "code",
      "metadata": {
        "id": "Vdj85PlEVHbU",
        "colab_type": "code",
        "outputId": "ff7ed16a-4846-4060-8a8e-aa7e02904c15",
        "colab": {
          "base_uri": "https://localhost:8080/",
          "height": 102
        }
      },
      "source": [
        "categorical_feature_list"
      ],
      "execution_count": 20,
      "outputs": [
        {
          "output_type": "execute_result",
          "data": {
            "text/plain": [
              "Index(['Gender', 'SeniorCitizen', 'Partner', 'Dependents', 'PhoneService',\n",
              "       'MultipleLines', 'InternetService', 'OnlineSecurity', 'OnlineBackup',\n",
              "       'DeviceProtection', 'TechSupport', 'StreamingTV', 'StreamingMovies',\n",
              "       'Contract', 'PaperlessBilling', 'PaymentMethod'],\n",
              "      dtype='object')"
            ]
          },
          "metadata": {
            "tags": []
          },
          "execution_count": 20
        }
      ]
    },
    {
      "cell_type": "code",
      "metadata": {
        "id": "actWWa4uWKKV",
        "colab_type": "code",
        "colab": {}
      },
      "source": [
        "categorical_features_yes_no = list(['Partner', 'Dependents', 'PhoneService',\n",
        "                                   'MultipleLines', 'OnlineSecurity', 'OnlineBackup',\n",
        "                                   'DeviceProtection', 'TechSupport', 'StreamingTV',\n",
        "                                   'StreamingMovies', 'PaperlessBilling'])"
      ],
      "execution_count": 0,
      "outputs": []
    },
    {
      "cell_type": "code",
      "metadata": {
        "id": "Tx4zZHB2XKZc",
        "colab_type": "code",
        "colab": {}
      },
      "source": [
        "for col in list(categorical_features_yes_no):\n",
        "  df[col] = df[col].apply(lambda x:1 if x==\"Yes\" else 0)"
      ],
      "execution_count": 0,
      "outputs": []
    },
    {
      "cell_type": "code",
      "metadata": {
        "id": "xe1xQxGPXxYq",
        "colab_type": "code",
        "colab": {}
      },
      "source": [
        "df.Gender = df.Gender.apply(lambda x:1 if x==\"Female\" else 0) "
      ],
      "execution_count": 0,
      "outputs": []
    },
    {
      "cell_type": "code",
      "metadata": {
        "id": "VMC3FlTYYR0E",
        "colab_type": "code",
        "outputId": "1f6694c9-372f-4632-8198-e6549306fd54",
        "colab": {
          "base_uri": "https://localhost:8080/",
          "height": 85
        }
      },
      "source": [
        "df.InternetService.value_counts()"
      ],
      "execution_count": 24,
      "outputs": [
        {
          "output_type": "execute_result",
          "data": {
            "text/plain": [
              "Fiber optic    3096\n",
              "DSL            2421\n",
              "No             1526\n",
              "Name: InternetService, dtype: int64"
            ]
          },
          "metadata": {
            "tags": []
          },
          "execution_count": 24
        }
      ]
    },
    {
      "cell_type": "markdown",
      "metadata": {
        "id": "VMAYeTV2YYwG",
        "colab_type": "text"
      },
      "source": [
        "One Hot Encoing of InternetService is as follows:\n",
        "\n",
        "['FiberOptic'] = 0\n",
        "\n",
        "['DSL'] = 1\n",
        "\n",
        "['No'] = 0"
      ]
    },
    {
      "cell_type": "code",
      "metadata": {
        "id": "CbVazSU4YsW3",
        "colab_type": "code",
        "colab": {}
      },
      "source": [
        "for x in df.InternetService.value_counts().keys():\n",
        "  df[x] = df.InternetService.apply(lambda d:1 if d==x else 0)\n",
        "df.drop(columns=['InternetService'], inplace=True)"
      ],
      "execution_count": 0,
      "outputs": []
    },
    {
      "cell_type": "code",
      "metadata": {
        "id": "Pw9fmXiWZYVr",
        "colab_type": "code",
        "colab": {}
      },
      "source": [
        "##Encoding in the similar manner for the columns : Contract and PaymentMethod\n",
        "for x in df.Contract.value_counts().keys():\n",
        "  df[x] = df.Contract.apply(lambda d:1 if d==x else 0)\n",
        "df.drop(columns=['Contract'], inplace=True)\n",
        "\n",
        "for x in df.PaymentMethod.value_counts().keys():\n",
        "  df[x] = df.PaymentMethod.apply(lambda d:1 if d==x else 0)\n",
        "df.drop(columns=['PaymentMethod'], inplace=True)"
      ],
      "execution_count": 0,
      "outputs": []
    },
    {
      "cell_type": "code",
      "metadata": {
        "id": "YFxnfMJNXpuw",
        "colab_type": "code",
        "outputId": "3b087ba2-67fd-41de-e38f-4d3c378a8114",
        "colab": {
          "base_uri": "https://localhost:8080/",
          "height": 374
        }
      },
      "source": [
        "df.head()"
      ],
      "execution_count": 27,
      "outputs": [
        {
          "output_type": "execute_result",
          "data": {
            "text/html": [
              "<div>\n",
              "<style scoped>\n",
              "    .dataframe tbody tr th:only-of-type {\n",
              "        vertical-align: middle;\n",
              "    }\n",
              "\n",
              "    .dataframe tbody tr th {\n",
              "        vertical-align: top;\n",
              "    }\n",
              "\n",
              "    .dataframe thead th {\n",
              "        text-align: right;\n",
              "    }\n",
              "</style>\n",
              "<table border=\"1\" class=\"dataframe\">\n",
              "  <thead>\n",
              "    <tr style=\"text-align: right;\">\n",
              "      <th></th>\n",
              "      <th>Gender</th>\n",
              "      <th>SeniorCitizen</th>\n",
              "      <th>Partner</th>\n",
              "      <th>Dependents</th>\n",
              "      <th>Tenure</th>\n",
              "      <th>PhoneService</th>\n",
              "      <th>MultipleLines</th>\n",
              "      <th>OnlineSecurity</th>\n",
              "      <th>OnlineBackup</th>\n",
              "      <th>DeviceProtection</th>\n",
              "      <th>TechSupport</th>\n",
              "      <th>StreamingTV</th>\n",
              "      <th>StreamingMovies</th>\n",
              "      <th>PaperlessBilling</th>\n",
              "      <th>MonthlyCharges</th>\n",
              "      <th>TotalCharges</th>\n",
              "      <th>Churn</th>\n",
              "      <th>Fiber optic</th>\n",
              "      <th>DSL</th>\n",
              "      <th>No</th>\n",
              "      <th>Month-to-month</th>\n",
              "      <th>Two year</th>\n",
              "      <th>One year</th>\n",
              "      <th>Electronic check</th>\n",
              "      <th>Mailed check</th>\n",
              "      <th>Bank transfer (automatic)</th>\n",
              "      <th>Credit card (automatic)</th>\n",
              "    </tr>\n",
              "    <tr>\n",
              "      <th>customerID</th>\n",
              "      <th></th>\n",
              "      <th></th>\n",
              "      <th></th>\n",
              "      <th></th>\n",
              "      <th></th>\n",
              "      <th></th>\n",
              "      <th></th>\n",
              "      <th></th>\n",
              "      <th></th>\n",
              "      <th></th>\n",
              "      <th></th>\n",
              "      <th></th>\n",
              "      <th></th>\n",
              "      <th></th>\n",
              "      <th></th>\n",
              "      <th></th>\n",
              "      <th></th>\n",
              "      <th></th>\n",
              "      <th></th>\n",
              "      <th></th>\n",
              "      <th></th>\n",
              "      <th></th>\n",
              "      <th></th>\n",
              "      <th></th>\n",
              "      <th></th>\n",
              "      <th></th>\n",
              "      <th></th>\n",
              "    </tr>\n",
              "  </thead>\n",
              "  <tbody>\n",
              "    <tr>\n",
              "      <th>7590-VHVEG</th>\n",
              "      <td>1</td>\n",
              "      <td>0</td>\n",
              "      <td>1</td>\n",
              "      <td>0</td>\n",
              "      <td>1.0</td>\n",
              "      <td>0</td>\n",
              "      <td>0</td>\n",
              "      <td>0</td>\n",
              "      <td>1</td>\n",
              "      <td>0</td>\n",
              "      <td>0</td>\n",
              "      <td>0</td>\n",
              "      <td>0</td>\n",
              "      <td>1</td>\n",
              "      <td>29.85</td>\n",
              "      <td>29.85</td>\n",
              "      <td>0</td>\n",
              "      <td>0</td>\n",
              "      <td>1</td>\n",
              "      <td>0</td>\n",
              "      <td>1</td>\n",
              "      <td>0</td>\n",
              "      <td>0</td>\n",
              "      <td>1</td>\n",
              "      <td>0</td>\n",
              "      <td>0</td>\n",
              "      <td>0</td>\n",
              "    </tr>\n",
              "    <tr>\n",
              "      <th>5575-GNVDE</th>\n",
              "      <td>0</td>\n",
              "      <td>0</td>\n",
              "      <td>0</td>\n",
              "      <td>0</td>\n",
              "      <td>34.0</td>\n",
              "      <td>1</td>\n",
              "      <td>0</td>\n",
              "      <td>1</td>\n",
              "      <td>0</td>\n",
              "      <td>1</td>\n",
              "      <td>0</td>\n",
              "      <td>0</td>\n",
              "      <td>0</td>\n",
              "      <td>0</td>\n",
              "      <td>56.95</td>\n",
              "      <td>1889.50</td>\n",
              "      <td>0</td>\n",
              "      <td>0</td>\n",
              "      <td>1</td>\n",
              "      <td>0</td>\n",
              "      <td>0</td>\n",
              "      <td>0</td>\n",
              "      <td>1</td>\n",
              "      <td>0</td>\n",
              "      <td>1</td>\n",
              "      <td>0</td>\n",
              "      <td>0</td>\n",
              "    </tr>\n",
              "    <tr>\n",
              "      <th>3668-QPYBK</th>\n",
              "      <td>0</td>\n",
              "      <td>0</td>\n",
              "      <td>0</td>\n",
              "      <td>0</td>\n",
              "      <td>2.0</td>\n",
              "      <td>1</td>\n",
              "      <td>0</td>\n",
              "      <td>1</td>\n",
              "      <td>1</td>\n",
              "      <td>0</td>\n",
              "      <td>0</td>\n",
              "      <td>0</td>\n",
              "      <td>0</td>\n",
              "      <td>1</td>\n",
              "      <td>53.85</td>\n",
              "      <td>108.15</td>\n",
              "      <td>1</td>\n",
              "      <td>0</td>\n",
              "      <td>1</td>\n",
              "      <td>0</td>\n",
              "      <td>1</td>\n",
              "      <td>0</td>\n",
              "      <td>0</td>\n",
              "      <td>0</td>\n",
              "      <td>1</td>\n",
              "      <td>0</td>\n",
              "      <td>0</td>\n",
              "    </tr>\n",
              "    <tr>\n",
              "      <th>7795-CFOCW</th>\n",
              "      <td>0</td>\n",
              "      <td>0</td>\n",
              "      <td>0</td>\n",
              "      <td>0</td>\n",
              "      <td>45.0</td>\n",
              "      <td>0</td>\n",
              "      <td>0</td>\n",
              "      <td>1</td>\n",
              "      <td>0</td>\n",
              "      <td>1</td>\n",
              "      <td>1</td>\n",
              "      <td>0</td>\n",
              "      <td>0</td>\n",
              "      <td>0</td>\n",
              "      <td>42.30</td>\n",
              "      <td>1840.75</td>\n",
              "      <td>0</td>\n",
              "      <td>0</td>\n",
              "      <td>1</td>\n",
              "      <td>0</td>\n",
              "      <td>0</td>\n",
              "      <td>0</td>\n",
              "      <td>1</td>\n",
              "      <td>0</td>\n",
              "      <td>0</td>\n",
              "      <td>1</td>\n",
              "      <td>0</td>\n",
              "    </tr>\n",
              "    <tr>\n",
              "      <th>9237-HQITU</th>\n",
              "      <td>1</td>\n",
              "      <td>0</td>\n",
              "      <td>0</td>\n",
              "      <td>0</td>\n",
              "      <td>2.0</td>\n",
              "      <td>1</td>\n",
              "      <td>0</td>\n",
              "      <td>0</td>\n",
              "      <td>0</td>\n",
              "      <td>0</td>\n",
              "      <td>0</td>\n",
              "      <td>0</td>\n",
              "      <td>0</td>\n",
              "      <td>1</td>\n",
              "      <td>70.70</td>\n",
              "      <td>151.65</td>\n",
              "      <td>1</td>\n",
              "      <td>1</td>\n",
              "      <td>0</td>\n",
              "      <td>0</td>\n",
              "      <td>1</td>\n",
              "      <td>0</td>\n",
              "      <td>0</td>\n",
              "      <td>1</td>\n",
              "      <td>0</td>\n",
              "      <td>0</td>\n",
              "      <td>0</td>\n",
              "    </tr>\n",
              "  </tbody>\n",
              "</table>\n",
              "</div>"
            ],
            "text/plain": [
              "            Gender  ... Credit card (automatic)\n",
              "customerID          ...                        \n",
              "7590-VHVEG       1  ...                       0\n",
              "5575-GNVDE       0  ...                       0\n",
              "3668-QPYBK       0  ...                       0\n",
              "7795-CFOCW       0  ...                       0\n",
              "9237-HQITU       1  ...                       0\n",
              "\n",
              "[5 rows x 27 columns]"
            ]
          },
          "metadata": {
            "tags": []
          },
          "execution_count": 27
        }
      ]
    },
    {
      "cell_type": "code",
      "metadata": {
        "id": "F7ugZgOBaDKg",
        "colab_type": "code",
        "colab": {}
      },
      "source": [
        "##Store the formatted data file in xlsx format.\n",
        "df.to_excel(\"Telco_CustomerChurn_Formatted.xlsx\")"
      ],
      "execution_count": 0,
      "outputs": []
    },
    {
      "cell_type": "code",
      "metadata": {
        "id": "EFx44vasG95P",
        "colab_type": "code",
        "outputId": "e05474ea-587e-48f8-b994-6d9c09091a5e",
        "colab": {
          "base_uri": "https://localhost:8080/",
          "height": 1000
        }
      },
      "source": [
        "from lifelines import CoxPHFitter\n",
        "\n",
        "cph = CoxPHFitter(penalizer=0.1)\n",
        "cph.fit(df, 'Tenure','Churn', show_progress=True)\n",
        "cph.print_summary()"
      ],
      "execution_count": 29,
      "outputs": [
        {
          "output_type": "stream",
          "text": [
            "\rIteration 1: norm_delta = 2.37808, step_size = 0.9500, ll = -15653.03964, newton_decrement = 2318.99829, seconds_since_start = 0.0\rIteration 2: norm_delta = 1.46460, step_size = 0.9500, ll = -13337.82333, newton_decrement = 468.53489, seconds_since_start = 0.1\rIteration 3: norm_delta = 0.92163, step_size = 0.9500, ll = -12806.59070, newton_decrement = 115.64637, seconds_since_start = 0.1\rIteration 4: norm_delta = 0.36039, step_size = 1.0000, ll = -12674.67670, newton_decrement = 13.64137, seconds_since_start = 0.1\rIteration 5: norm_delta = 0.04537, step_size = 1.0000, ll = -12659.93223, newton_decrement = 0.22205, seconds_since_start = 0.2\rIteration 6: norm_delta = 0.00113, step_size = 1.0000, ll = -12659.69408, newton_decrement = 0.00015, seconds_since_start = 0.2\rIteration 7: norm_delta = 0.00000, step_size = 1.0000, ll = -12659.69374, newton_decrement = 0.00000, seconds_since_start = 0.2Convergence completed after 7 iterations.\n",
            "<lifelines.CoxPHFitter: fitted with 7043 observations, 5174 censored>\n",
            "      duration col = 'Tenure'\n",
            "         event col = 'Churn'\n",
            "         penalizer = 0.1\n",
            "number of subjects = 7043\n",
            "  number of events = 1869\n",
            "partial log-likelihood = -12659.69\n",
            "  time fit was run = 2019-09-15 18:25:50 UTC\n",
            "\n",
            "---\n",
            "                           coef exp(coef)  se(coef)  coef lower 95%  coef upper 95% exp(coef) lower 95% exp(coef) upper 95%\n",
            "Gender                     0.04      1.04      0.05           -0.05            0.13                0.95                1.14\n",
            "SeniorCitizen              0.03      1.04      0.06           -0.08            0.15                0.93                1.16\n",
            "Partner                   -0.18      0.84      0.06           -0.29           -0.07                0.75                0.93\n",
            "Dependents                -0.09      0.91      0.07           -0.23            0.05                0.80                1.05\n",
            "PhoneService               0.82      2.27      0.46           -0.08            1.72                0.92                5.59\n",
            "MultipleLines              0.08      1.09      0.12           -0.16            0.32                0.86                1.38\n",
            "OnlineSecurity            -0.22      0.81      0.13           -0.47            0.04                0.63                1.04\n",
            "OnlineBackup              -0.06      0.94      0.12           -0.30            0.19                0.74                1.20\n",
            "DeviceProtection           0.09      1.09      0.12           -0.16            0.33                0.86                1.39\n",
            "TechSupport               -0.09      0.92      0.13           -0.34            0.17                0.71                1.18\n",
            "StreamingTV                0.28      1.32      0.23           -0.17            0.73                0.84                2.07\n",
            "StreamingMovies            0.28      1.33      0.23           -0.16            0.73                0.85                2.08\n",
            "PaperlessBilling           0.15      1.16      0.06            0.04            0.26                1.04                1.30\n",
            "MonthlyCharges             0.01      1.01      0.02           -0.03            0.06                0.97                1.06\n",
            "TotalCharges              -0.00      1.00      0.00           -0.00           -0.00                1.00                1.00\n",
            "Fiber optic                1.24      3.44      3.98           -6.56            9.03                0.00             8377.97\n",
            "DSL                        0.23      1.26      3.95           -7.51            7.97                0.00             2885.17\n",
            "No                        -2.10      0.12      4.00           -9.93            5.74                0.00              310.07\n",
            "Month-to-month             1.49      4.42      4.10           -6.54            9.52                0.00            13607.45\n",
            "Two year                  -2.21      0.11      4.10          -10.25            5.82                0.00              337.55\n",
            "One year                   0.22      1.25      4.10           -7.81            8.25                0.00             3835.03\n",
            "Electronic check           0.15      1.16      3.68           -7.05            7.36                0.00             1565.42\n",
            "Mailed check               0.27      1.32      3.68           -6.93            7.48                0.00             1770.92\n",
            "Bank transfer (automatic) -0.24      0.79      3.68           -7.44            6.97                0.00             1063.23\n",
            "Credit card (automatic)   -0.25      0.78      3.68           -7.45            6.96                0.00             1050.83\n",
            "\n",
            "                               z      p  -log2(p)\n",
            "Gender                      0.85   0.40      1.33\n",
            "SeniorCitizen               0.61   0.54      0.88\n",
            "Partner                    -3.24 <0.005      9.68\n",
            "Dependents                 -1.31   0.19      2.40\n",
            "PhoneService                1.78   0.07      3.74\n",
            "MultipleLines               0.69   0.49      1.03\n",
            "OnlineSecurity             -1.66   0.10      3.36\n",
            "OnlineBackup               -0.47   0.64      0.64\n",
            "DeviceProtection            0.69   0.49      1.04\n",
            "TechSupport                -0.67   0.50      0.99\n",
            "StreamingTV                 1.21   0.23      2.15\n",
            "StreamingMovies             1.24   0.22      2.21\n",
            "PaperlessBilling            2.65   0.01      6.96\n",
            "MonthlyCharges              0.61   0.54      0.88\n",
            "TotalCharges              -39.17 <0.005       inf\n",
            "Fiber optic                 0.31   0.76      0.40\n",
            "DSL                         0.06   0.95      0.07\n",
            "No                         -0.52   0.60      0.74\n",
            "Month-to-month              0.36   0.72      0.48\n",
            "Two year                   -0.54   0.59      0.76\n",
            "One year                    0.05   0.96      0.06\n",
            "Electronic check            0.04   0.97      0.05\n",
            "Mailed check                0.07   0.94      0.09\n",
            "Bank transfer (automatic)  -0.06   0.95      0.08\n",
            "Credit card (automatic)    -0.07   0.95      0.08\n",
            "---\n",
            "Concordance = 0.93\n",
            "Log-likelihood ratio test = 5986.69 on 25 df, -log2(p)=inf\n"
          ],
          "name": "stdout"
        }
      ]
    },
    {
      "cell_type": "markdown",
      "metadata": {
        "id": "CvGbX4awbccn",
        "colab_type": "text"
      },
      "source": [
        "Some of the Columns in the dataset have high collinearity i.e the column is equal to the linear combination of one or more other columns. \n",
        "\n",
        "The common cause of this is dummying categorical variables but not dropping a column, or some hierarchical structure in the dataset.\n",
        "\n",
        "This can be found out by those having the large(absolute) magnitude in the coefs column of the print summary.\n",
        "\n"
      ]
    },
    {
      "cell_type": "code",
      "metadata": {
        "id": "JdqWXGJXZ3jS",
        "colab_type": "code",
        "colab": {}
      },
      "source": [
        "##Set the threshold at 1.00 and remove any column that has coef magbitude greater than 1.\n",
        "##Also, gender does not give us any information on the Churning pattern.\n",
        "columns_to_drop = list(['Gender','Fiber optic', 'No', 'Month-to-month', 'Two year'])\n",
        "df = df.drop(columns=columns_to_drop, axis = 1)"
      ],
      "execution_count": 0,
      "outputs": []
    },
    {
      "cell_type": "code",
      "metadata": {
        "id": "H1-bkT6idUaB",
        "colab_type": "code",
        "outputId": "0bb6d84d-4c87-4ad6-a754-1f1ba081f652",
        "colab": {
          "base_uri": "https://localhost:8080/",
          "height": 986
        }
      },
      "source": [
        "cph = CoxPHFitter(penalizer=0.1)\n",
        "cph.fit(df, 'Tenure','Churn', show_progress=True)\n",
        "cph.print_summary()"
      ],
      "execution_count": 31,
      "outputs": [
        {
          "output_type": "stream",
          "text": [
            "\rIteration 1: norm_delta = 2.89939, step_size = 0.9500, ll = -15653.03964, newton_decrement = 2316.58553, seconds_since_start = 0.0\rIteration 2: norm_delta = 1.50189, step_size = 0.9500, ll = -13354.02348, newton_decrement = 347.52784, seconds_since_start = 0.0\rIteration 3: norm_delta = 0.84438, step_size = 0.9500, ll = -12971.15902, newton_decrement = 51.44389, seconds_since_start = 0.1\rIteration 4: norm_delta = 0.23934, step_size = 1.0000, ll = -12914.73190, newton_decrement = 2.67558, seconds_since_start = 0.1\rIteration 5: norm_delta = 0.01121, step_size = 1.0000, ll = -12911.86081, newton_decrement = 0.00551, seconds_since_start = 0.1\rIteration 6: norm_delta = 0.00002, step_size = 1.0000, ll = -12911.84966, newton_decrement = 0.00000, seconds_since_start = 0.2Convergence completed after 6 iterations.\n",
            "<lifelines.CoxPHFitter: fitted with 7043 observations, 5174 censored>\n",
            "      duration col = 'Tenure'\n",
            "         event col = 'Churn'\n",
            "         penalizer = 0.1\n",
            "number of subjects = 7043\n",
            "  number of events = 1869\n",
            "partial log-likelihood = -12911.85\n",
            "  time fit was run = 2019-09-15 18:26:25 UTC\n",
            "\n",
            "---\n",
            "                           coef exp(coef)  se(coef)  coef lower 95%  coef upper 95% exp(coef) lower 95% exp(coef) upper 95%\n",
            "SeniorCitizen              0.08      1.08      0.06           -0.03            0.19                0.97                1.21\n",
            "Partner                   -0.20      0.82      0.06           -0.30           -0.09                0.74                0.92\n",
            "Dependents                -0.15      0.86      0.07           -0.28           -0.01                0.75                0.99\n",
            "PhoneService              -1.19      0.30      0.11           -1.41           -0.97                0.24                0.38\n",
            "MultipleLines             -0.41      0.66      0.05           -0.51           -0.30                0.60                0.74\n",
            "OnlineSecurity            -0.84      0.43      0.07           -0.98           -0.69                0.38                0.50\n",
            "OnlineBackup              -0.56      0.57      0.06           -0.67           -0.45                0.51                0.64\n",
            "DeviceProtection          -0.49      0.61      0.06           -0.60           -0.38                0.55                0.69\n",
            "TechSupport               -0.77      0.46      0.07           -0.91           -0.63                0.40                0.53\n",
            "StreamingTV               -0.74      0.48      0.06           -0.86           -0.62                0.42                0.54\n",
            "StreamingMovies           -0.74      0.48      0.06           -0.86           -0.61                0.42                0.54\n",
            "PaperlessBilling           0.24      1.27      0.06            0.13            0.35                1.14                1.42\n",
            "MonthlyCharges             0.11      1.12      0.00            0.11            0.12                1.11                1.13\n",
            "TotalCharges              -0.00      1.00      0.00           -0.00           -0.00                1.00                1.00\n",
            "DSL                        1.36      3.89      0.09            1.18            1.54                3.25                4.66\n",
            "One year                  -0.38      0.69      0.09           -0.55           -0.20                0.58                0.82\n",
            "Electronic check           0.22      1.24      3.68           -6.99            7.42                0.00             1669.50\n",
            "Mailed check               0.26      1.30      3.68           -6.94            7.47                0.00             1748.40\n",
            "Bank transfer (automatic) -0.25      0.78      3.68           -7.45            6.96                0.00             1050.88\n",
            "Credit card (automatic)   -0.31      0.74      3.68           -7.51            6.90                0.00              990.05\n",
            "\n",
            "                               z      p  -log2(p)\n",
            "SeniorCitizen               1.35   0.18      2.50\n",
            "Partner                    -3.55 <0.005     11.37\n",
            "Dependents                 -2.09   0.04      4.78\n",
            "PhoneService              -10.68 <0.005     86.07\n",
            "MultipleLines              -7.66 <0.005     45.63\n",
            "OnlineSecurity            -11.55 <0.005    100.16\n",
            "OnlineBackup               -9.73 <0.005     71.86\n",
            "DeviceProtection           -8.52 <0.005     55.76\n",
            "TechSupport               -10.99 <0.005     90.89\n",
            "StreamingTV               -11.95 <0.005    106.89\n",
            "StreamingMovies           -11.93 <0.005    106.55\n",
            "PaperlessBilling            4.23 <0.005     15.39\n",
            "MonthlyCharges             34.68 <0.005    872.93\n",
            "TotalCharges              -39.39 <0.005       inf\n",
            "DSL                        14.88 <0.005    163.96\n",
            "One year                   -4.28 <0.005     15.68\n",
            "Electronic check            0.06   0.95      0.07\n",
            "Mailed check                0.07   0.94      0.08\n",
            "Bank transfer (automatic)  -0.07   0.95      0.08\n",
            "Credit card (automatic)    -0.08   0.93      0.10\n",
            "---\n",
            "Concordance = 0.92\n",
            "Log-likelihood ratio test = 5482.38 on 20 df, -log2(p)=inf\n"
          ],
          "name": "stdout"
        }
      ]
    },
    {
      "cell_type": "markdown",
      "metadata": {
        "id": "xoD-c_iRd9N-",
        "colab_type": "text"
      },
      "source": [
        "The key factor to consider from the above summary is the exp(coef) which is interpreted as the scaling of hazard risk for each additional unit of variable, 1.00 being neutral."
      ]
    },
    {
      "cell_type": "markdown",
      "metadata": {
        "id": "Xm6VIl2Fe_nw",
        "colab_type": "text"
      },
      "source": [
        "The unusual high magnitude of the DSL in the exp(coef) suggest that a customer who is using InternetService by DSL is 3.89 times likely to cancel their service.\n",
        "\n",
        "Any column that has exp(coef) value below 1.00 shows that the customer is less likely to churn."
      ]
    },
    {
      "cell_type": "code",
      "metadata": {
        "id": "E1Ke6aV-deTb",
        "colab_type": "code",
        "outputId": "09eecc99-0e8c-421d-98b2-ecfc7046609d",
        "colab": {
          "base_uri": "https://localhost:8080/",
          "height": 474
        }
      },
      "source": [
        "##Plotting Coefficient Outputs and their Confidence Intervals\n",
        "fig, ax = plt.subplots(figsize=(10,7))\n",
        "ax.set_title(\"Survival Regression: Coefficients and Confidence Intervals\")\n",
        "cph.plot(ax=ax)"
      ],
      "execution_count": 32,
      "outputs": [
        {
          "output_type": "execute_result",
          "data": {
            "text/plain": [
              "<matplotlib.axes._subplots.AxesSubplot at 0x7fcddd94c518>"
            ]
          },
          "metadata": {
            "tags": []
          },
          "execution_count": 32
        },
        {
          "output_type": "display_data",
          "data": {
            "image/png": "[encoded data removed]",
            "text/plain": [
              "<Figure size 720x504 with 1 Axes>"
            ]
          },
          "metadata": {
            "tags": []
          }
        }
      ]
    },
    {
      "cell_type": "markdown",
      "metadata": {
        "id": "uvzcacMCJrU4",
        "colab_type": "text"
      },
      "source": [
        "Any customer with the covariates rightside of log(HR) = 0 state a significant impact on the churn and the company needs to take special care to retain the customer."
      ]
    }
  ]
}
